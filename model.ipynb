{
  "nbformat": 4,
  "nbformat_minor": 0,
  "metadata": {
    "kernelspec": {
      "display_name": "Python 3",
      "language": "python",
      "name": "python3"
    },
    "language_info": {
      "codemirror_mode": {
        "name": "ipython",
        "version": 3
      },
      "file_extension": ".py",
      "mimetype": "text/x-python",
      "name": "python",
      "nbconvert_exporter": "python",
      "pygments_lexer": "ipython3",
      "version": "3.8.8"
    },
    "colab": {
      "name": "COVID-19-Detection-from-Chest-X-Ray-Images-Using-Deep-Learning.ipynb",
      "provenance": [],
      "collapsed_sections": []
    },
    "accelerator": "TPU"
  },
  "cells": [
    {
      "cell_type": "markdown",
      "metadata": {
        "id": "FCtUO6O8Ilb4"
      },
      "source": [
        "# Importing Dependencies and Dataset Preparation"
      ]
    },
    {
      "cell_type": "code",
      "metadata": {
        "colab": {
          "base_uri": "https://localhost:8080/"
        },
        "id": "TglIoPliJFnw",
        "outputId": "e4e08a7a-a34d-48fc-caae-bd7c568f86f3"
      },
      "source": [
        "!pip install kaggle\n",
        "!pip install patool"
      ],
      "execution_count": 1,
      "outputs": [
        {
          "output_type": "stream",
          "text": [
            "Requirement already satisfied: kaggle in /usr/local/lib/python3.7/dist-packages (1.5.12)\n",
            "Requirement already satisfied: six>=1.10 in /usr/local/lib/python3.7/dist-packages (from kaggle) (1.15.0)\n",
            "Requirement already satisfied: tqdm in /usr/local/lib/python3.7/dist-packages (from kaggle) (4.41.1)\n",
            "Requirement already satisfied: certifi in /usr/local/lib/python3.7/dist-packages (from kaggle) (2021.5.30)\n",
            "Requirement already satisfied: urllib3 in /usr/local/lib/python3.7/dist-packages (from kaggle) (1.24.3)\n",
            "Requirement already satisfied: python-slugify in /usr/local/lib/python3.7/dist-packages (from kaggle) (5.0.2)\n",
            "Requirement already satisfied: python-dateutil in /usr/local/lib/python3.7/dist-packages (from kaggle) (2.8.1)\n",
            "Requirement already satisfied: requests in /usr/local/lib/python3.7/dist-packages (from kaggle) (2.23.0)\n",
            "Requirement already satisfied: text-unidecode>=1.3 in /usr/local/lib/python3.7/dist-packages (from python-slugify->kaggle) (1.3)\n",
            "Requirement already satisfied: idna<3,>=2.5 in /usr/local/lib/python3.7/dist-packages (from requests->kaggle) (2.10)\n",
            "Requirement already satisfied: chardet<4,>=3.0.2 in /usr/local/lib/python3.7/dist-packages (from requests->kaggle) (3.0.4)\n",
            "Collecting patool\n",
            "\u001b[?25l  Downloading https://files.pythonhosted.org/packages/43/94/52243ddff508780dd2d8110964320ab4851134a55ab102285b46e740f76a/patool-1.12-py2.py3-none-any.whl (77kB)\n",
            "\u001b[K     |████████████████████████████████| 81kB 4.1MB/s \n",
            "\u001b[?25hInstalling collected packages: patool\n",
            "Successfully installed patool-1.12\n"
          ],
          "name": "stdout"
        }
      ]
    },
    {
      "cell_type": "code",
      "metadata": {
        "execution": {
          "iopub.execute_input": "2021-06-20T02:28:27.020265Z",
          "iopub.status.busy": "2021-06-20T02:28:27.019724Z",
          "iopub.status.idle": "2021-06-20T02:28:32.139935Z",
          "shell.execute_reply": "2021-06-20T02:28:32.138969Z",
          "shell.execute_reply.started": "2021-06-20T02:28:27.020172Z"
        },
        "colab": {
          "base_uri": "https://localhost:8080/"
        },
        "id": "UjV8sdyfIlb_",
        "outputId": "4fc891c0-7ca7-4f29-8d34-ab7188d8b784"
      },
      "source": [
        "import pandas as pd\n",
        "import numpy as np\n",
        "import matplotlib.pyplot as plt\n",
        "import tensorflow as tf\n",
        "from tensorflow.keras.preprocessing.image import ImageDataGenerator\n",
        "from tensorflow.keras.optimizers import Adam\n",
        "from google.colab import files\n",
        "\n",
        "import os\n",
        "import shutil\n",
        "import patoolib\n",
        "import warnings\n",
        "\n",
        "print(tf.__version__)\n",
        "warnings.filterwarnings('ignore')"
      ],
      "execution_count": 2,
      "outputs": [
        {
          "output_type": "stream",
          "text": [
            "2.5.0\n"
          ],
          "name": "stdout"
        }
      ]
    },
    {
      "cell_type": "code",
      "metadata": {
        "execution": {
          "iopub.execute_input": "2021-06-20T02:28:32.141530Z",
          "iopub.status.busy": "2021-06-20T02:28:32.141266Z",
          "iopub.status.idle": "2021-06-20T02:28:32.146723Z",
          "shell.execute_reply": "2021-06-20T02:28:32.145766Z",
          "shell.execute_reply.started": "2021-06-20T02:28:32.141502Z"
        },
        "id": "YE1Wqx91IlcC"
      },
      "source": [
        "tf.random.set_seed(666)"
      ],
      "execution_count": 3,
      "outputs": []
    },
    {
      "cell_type": "markdown",
      "metadata": {
        "id": "sn50lcXNIlcC"
      },
      "source": [
        "# Importing Kaggle Training and Validation Sets"
      ]
    },
    {
      "cell_type": "markdown",
      "metadata": {
        "id": "rLBxddv_IlcD"
      },
      "source": [
        "Using /tmp to create a temporary folder"
      ]
    },
    {
      "cell_type": "code",
      "metadata": {
        "colab": {
          "resources": {
            "http://localhost:8080/nbextensions/google.colab/files.js": {
              "data": "Ly8gQ29weXJpZ2h0IDIwMTcgR29vZ2xlIExMQwovLwovLyBMaWNlbnNlZCB1bmRlciB0aGUgQXBhY2hlIExpY2Vuc2UsIFZlcnNpb24gMi4wICh0aGUgIkxpY2Vuc2UiKTsKLy8geW91IG1heSBub3QgdXNlIHRoaXMgZmlsZSBleGNlcHQgaW4gY29tcGxpYW5jZSB3aXRoIHRoZSBMaWNlbnNlLgovLyBZb3UgbWF5IG9idGFpbiBhIGNvcHkgb2YgdGhlIExpY2Vuc2UgYXQKLy8KLy8gICAgICBodHRwOi8vd3d3LmFwYWNoZS5vcmcvbGljZW5zZXMvTElDRU5TRS0yLjAKLy8KLy8gVW5sZXNzIHJlcXVpcmVkIGJ5IGFwcGxpY2FibGUgbGF3IG9yIGFncmVlZCB0byBpbiB3cml0aW5nLCBzb2Z0d2FyZQovLyBkaXN0cmlidXRlZCB1bmRlciB0aGUgTGljZW5zZSBpcyBkaXN0cmlidXRlZCBvbiBhbiAiQVMgSVMiIEJBU0lTLAovLyBXSVRIT1VUIFdBUlJBTlRJRVMgT1IgQ09ORElUSU9OUyBPRiBBTlkgS0lORCwgZWl0aGVyIGV4cHJlc3Mgb3IgaW1wbGllZC4KLy8gU2VlIHRoZSBMaWNlbnNlIGZvciB0aGUgc3BlY2lmaWMgbGFuZ3VhZ2UgZ292ZXJuaW5nIHBlcm1pc3Npb25zIGFuZAovLyBsaW1pdGF0aW9ucyB1bmRlciB0aGUgTGljZW5zZS4KCi8qKgogKiBAZmlsZW92ZXJ2aWV3IEhlbHBlcnMgZm9yIGdvb2dsZS5jb2xhYiBQeXRob24gbW9kdWxlLgogKi8KKGZ1bmN0aW9uKHNjb3BlKSB7CmZ1bmN0aW9uIHNwYW4odGV4dCwgc3R5bGVBdHRyaWJ1dGVzID0ge30pIHsKICBjb25zdCBlbGVtZW50ID0gZG9jdW1lbnQuY3JlYXRlRWxlbWVudCgnc3BhbicpOwogIGVsZW1lbnQudGV4dENvbnRlbnQgPSB0ZXh0OwogIGZvciAoY29uc3Qga2V5IG9mIE9iamVjdC5rZXlzKHN0eWxlQXR0cmlidXRlcykpIHsKICAgIGVsZW1lbnQuc3R5bGVba2V5XSA9IHN0eWxlQXR0cmlidXRlc1trZXldOwogIH0KICByZXR1cm4gZWxlbWVudDsKfQoKLy8gTWF4IG51bWJlciBvZiBieXRlcyB3aGljaCB3aWxsIGJlIHVwbG9hZGVkIGF0IGEgdGltZS4KY29uc3QgTUFYX1BBWUxPQURfU0laRSA9IDEwMCAqIDEwMjQ7CgpmdW5jdGlvbiBfdXBsb2FkRmlsZXMoaW5wdXRJZCwgb3V0cHV0SWQpIHsKICBjb25zdCBzdGVwcyA9IHVwbG9hZEZpbGVzU3RlcChpbnB1dElkLCBvdXRwdXRJZCk7CiAgY29uc3Qgb3V0cHV0RWxlbWVudCA9IGRvY3VtZW50LmdldEVsZW1lbnRCeUlkKG91dHB1dElkKTsKICAvLyBDYWNoZSBzdGVwcyBvbiB0aGUgb3V0cHV0RWxlbWVudCB0byBtYWtlIGl0IGF2YWlsYWJsZSBmb3IgdGhlIG5leHQgY2FsbAogIC8vIHRvIHVwbG9hZEZpbGVzQ29udGludWUgZnJvbSBQeXRob24uCiAgb3V0cHV0RWxlbWVudC5zdGVwcyA9IHN0ZXBzOwoKICByZXR1cm4gX3VwbG9hZEZpbGVzQ29udGludWUob3V0cHV0SWQpOwp9CgovLyBUaGlzIGlzIHJvdWdobHkgYW4gYXN5bmMgZ2VuZXJhdG9yIChub3Qgc3VwcG9ydGVkIGluIHRoZSBicm93c2VyIHlldCksCi8vIHdoZXJlIHRoZXJlIGFyZSBtdWx0aXBsZSBhc3luY2hyb25vdXMgc3RlcHMgYW5kIHRoZSBQeXRob24gc2lkZSBpcyBnb2luZwovLyB0byBwb2xsIGZvciBjb21wbGV0aW9uIG9mIGVhY2ggc3RlcC4KLy8gVGhpcyB1c2VzIGEgUHJvbWlzZSB0byBibG9jayB0aGUgcHl0aG9uIHNpZGUgb24gY29tcGxldGlvbiBvZiBlYWNoIHN0ZXAsCi8vIHRoZW4gcGFzc2VzIHRoZSByZXN1bHQgb2YgdGhlIHByZXZpb3VzIHN0ZXAgYXMgdGhlIGlucHV0IHRvIHRoZSBuZXh0IHN0ZXAuCmZ1bmN0aW9uIF91cGxvYWRGaWxlc0NvbnRpbnVlKG91dHB1dElkKSB7CiAgY29uc3Qgb3V0cHV0RWxlbWVudCA9IGRvY3VtZW50LmdldEVsZW1lbnRCeUlkKG91dHB1dElkKTsKICBjb25zdCBzdGVwcyA9IG91dHB1dEVsZW1lbnQuc3RlcHM7CgogIGNvbnN0IG5leHQgPSBzdGVwcy5uZXh0KG91dHB1dEVsZW1lbnQubGFzdFByb21pc2VWYWx1ZSk7CiAgcmV0dXJuIFByb21pc2UucmVzb2x2ZShuZXh0LnZhbHVlLnByb21pc2UpLnRoZW4oKHZhbHVlKSA9PiB7CiAgICAvLyBDYWNoZSB0aGUgbGFzdCBwcm9taXNlIHZhbHVlIHRvIG1ha2UgaXQgYXZhaWxhYmxlIHRvIHRoZSBuZXh0CiAgICAvLyBzdGVwIG9mIHRoZSBnZW5lcmF0b3IuCiAgICBvdXRwdXRFbGVtZW50Lmxhc3RQcm9taXNlVmFsdWUgPSB2YWx1ZTsKICAgIHJldHVybiBuZXh0LnZhbHVlLnJlc3BvbnNlOwogIH0pOwp9CgovKioKICogR2VuZXJhdG9yIGZ1bmN0aW9uIHdoaWNoIGlzIGNhbGxlZCBiZXR3ZWVuIGVhY2ggYXN5bmMgc3RlcCBvZiB0aGUgdXBsb2FkCiAqIHByb2Nlc3MuCiAqIEBwYXJhbSB7c3RyaW5nfSBpbnB1dElkIEVsZW1lbnQgSUQgb2YgdGhlIGlucHV0IGZpbGUgcGlja2VyIGVsZW1lbnQuCiAqIEBwYXJhbSB7c3RyaW5nfSBvdXRwdXRJZCBFbGVtZW50IElEIG9mIHRoZSBvdXRwdXQgZGlzcGxheS4KICogQHJldHVybiB7IUl0ZXJhYmxlPCFPYmplY3Q+fSBJdGVyYWJsZSBvZiBuZXh0IHN0ZXBzLgogKi8KZnVuY3Rpb24qIHVwbG9hZEZpbGVzU3RlcChpbnB1dElkLCBvdXRwdXRJZCkgewogIGNvbnN0IGlucHV0RWxlbWVudCA9IGRvY3VtZW50LmdldEVsZW1lbnRCeUlkKGlucHV0SWQpOwogIGlucHV0RWxlbWVudC5kaXNhYmxlZCA9IGZhbHNlOwoKICBjb25zdCBvdXRwdXRFbGVtZW50ID0gZG9jdW1lbnQuZ2V0RWxlbWVudEJ5SWQob3V0cHV0SWQpOwogIG91dHB1dEVsZW1lbnQuaW5uZXJIVE1MID0gJyc7CgogIGNvbnN0IHBpY2tlZFByb21pc2UgPSBuZXcgUHJvbWlzZSgocmVzb2x2ZSkgPT4gewogICAgaW5wdXRFbGVtZW50LmFkZEV2ZW50TGlzdGVuZXIoJ2NoYW5nZScsIChlKSA9PiB7CiAgICAgIHJlc29sdmUoZS50YXJnZXQuZmlsZXMpOwogICAgfSk7CiAgfSk7CgogIGNvbnN0IGNhbmNlbCA9IGRvY3VtZW50LmNyZWF0ZUVsZW1lbnQoJ2J1dHRvbicpOwogIGlucHV0RWxlbWVudC5wYXJlbnRFbGVtZW50LmFwcGVuZENoaWxkKGNhbmNlbCk7CiAgY2FuY2VsLnRleHRDb250ZW50ID0gJ0NhbmNlbCB1cGxvYWQnOwogIGNvbnN0IGNhbmNlbFByb21pc2UgPSBuZXcgUHJvbWlzZSgocmVzb2x2ZSkgPT4gewogICAgY2FuY2VsLm9uY2xpY2sgPSAoKSA9PiB7CiAgICAgIHJlc29sdmUobnVsbCk7CiAgICB9OwogIH0pOwoKICAvLyBXYWl0IGZvciB0aGUgdXNlciB0byBwaWNrIHRoZSBmaWxlcy4KICBjb25zdCBmaWxlcyA9IHlpZWxkIHsKICAgIHByb21pc2U6IFByb21pc2UucmFjZShbcGlja2VkUHJvbWlzZSwgY2FuY2VsUHJvbWlzZV0pLAogICAgcmVzcG9uc2U6IHsKICAgICAgYWN0aW9uOiAnc3RhcnRpbmcnLAogICAgfQogIH07CgogIGNhbmNlbC5yZW1vdmUoKTsKCiAgLy8gRGlzYWJsZSB0aGUgaW5wdXQgZWxlbWVudCBzaW5jZSBmdXJ0aGVyIHBpY2tzIGFyZSBub3QgYWxsb3dlZC4KICBpbnB1dEVsZW1lbnQuZGlzYWJsZWQgPSB0cnVlOwoKICBpZiAoIWZpbGVzKSB7CiAgICByZXR1cm4gewogICAgICByZXNwb25zZTogewogICAgICAgIGFjdGlvbjogJ2NvbXBsZXRlJywKICAgICAgfQogICAgfTsKICB9CgogIGZvciAoY29uc3QgZmlsZSBvZiBmaWxlcykgewogICAgY29uc3QgbGkgPSBkb2N1bWVudC5jcmVhdGVFbGVtZW50KCdsaScpOwogICAgbGkuYXBwZW5kKHNwYW4oZmlsZS5uYW1lLCB7Zm9udFdlaWdodDogJ2JvbGQnfSkpOwogICAgbGkuYXBwZW5kKHNwYW4oCiAgICAgICAgYCgke2ZpbGUudHlwZSB8fCAnbi9hJ30pIC0gJHtmaWxlLnNpemV9IGJ5dGVzLCBgICsKICAgICAgICBgbGFzdCBtb2RpZmllZDogJHsKICAgICAgICAgICAgZmlsZS5sYXN0TW9kaWZpZWREYXRlID8gZmlsZS5sYXN0TW9kaWZpZWREYXRlLnRvTG9jYWxlRGF0ZVN0cmluZygpIDoKICAgICAgICAgICAgICAgICAgICAgICAgICAgICAgICAgICAgJ24vYSd9IC0gYCkpOwogICAgY29uc3QgcGVyY2VudCA9IHNwYW4oJzAlIGRvbmUnKTsKICAgIGxpLmFwcGVuZENoaWxkKHBlcmNlbnQpOwoKICAgIG91dHB1dEVsZW1lbnQuYXBwZW5kQ2hpbGQobGkpOwoKICAgIGNvbnN0IGZpbGVEYXRhUHJvbWlzZSA9IG5ldyBQcm9taXNlKChyZXNvbHZlKSA9PiB7CiAgICAgIGNvbnN0IHJlYWRlciA9IG5ldyBGaWxlUmVhZGVyKCk7CiAgICAgIHJlYWRlci5vbmxvYWQgPSAoZSkgPT4gewogICAgICAgIHJlc29sdmUoZS50YXJnZXQucmVzdWx0KTsKICAgICAgfTsKICAgICAgcmVhZGVyLnJlYWRBc0FycmF5QnVmZmVyKGZpbGUpOwogICAgfSk7CiAgICAvLyBXYWl0IGZvciB0aGUgZGF0YSB0byBiZSByZWFkeS4KICAgIGxldCBmaWxlRGF0YSA9IHlpZWxkIHsKICAgICAgcHJvbWlzZTogZmlsZURhdGFQcm9taXNlLAogICAgICByZXNwb25zZTogewogICAgICAgIGFjdGlvbjogJ2NvbnRpbnVlJywKICAgICAgfQogICAgfTsKCiAgICAvLyBVc2UgYSBjaHVua2VkIHNlbmRpbmcgdG8gYXZvaWQgbWVzc2FnZSBzaXplIGxpbWl0cy4gU2VlIGIvNjIxMTU2NjAuCiAgICBsZXQgcG9zaXRpb24gPSAwOwogICAgZG8gewogICAgICBjb25zdCBsZW5ndGggPSBNYXRoLm1pbihmaWxlRGF0YS5ieXRlTGVuZ3RoIC0gcG9zaXRpb24sIE1BWF9QQVlMT0FEX1NJWkUpOwogICAgICBjb25zdCBjaHVuayA9IG5ldyBVaW50OEFycmF5KGZpbGVEYXRhLCBwb3NpdGlvbiwgbGVuZ3RoKTsKICAgICAgcG9zaXRpb24gKz0gbGVuZ3RoOwoKICAgICAgY29uc3QgYmFzZTY0ID0gYnRvYShTdHJpbmcuZnJvbUNoYXJDb2RlLmFwcGx5KG51bGwsIGNodW5rKSk7CiAgICAgIHlpZWxkIHsKICAgICAgICByZXNwb25zZTogewogICAgICAgICAgYWN0aW9uOiAnYXBwZW5kJywKICAgICAgICAgIGZpbGU6IGZpbGUubmFtZSwKICAgICAgICAgIGRhdGE6IGJhc2U2NCwKICAgICAgICB9LAogICAgICB9OwoKICAgICAgbGV0IHBlcmNlbnREb25lID0gZmlsZURhdGEuYnl0ZUxlbmd0aCA9PT0gMCA/CiAgICAgICAgICAxMDAgOgogICAgICAgICAgTWF0aC5yb3VuZCgocG9zaXRpb24gLyBmaWxlRGF0YS5ieXRlTGVuZ3RoKSAqIDEwMCk7CiAgICAgIHBlcmNlbnQudGV4dENvbnRlbnQgPSBgJHtwZXJjZW50RG9uZX0lIGRvbmVgOwoKICAgIH0gd2hpbGUgKHBvc2l0aW9uIDwgZmlsZURhdGEuYnl0ZUxlbmd0aCk7CiAgfQoKICAvLyBBbGwgZG9uZS4KICB5aWVsZCB7CiAgICByZXNwb25zZTogewogICAgICBhY3Rpb246ICdjb21wbGV0ZScsCiAgICB9CiAgfTsKfQoKc2NvcGUuZ29vZ2xlID0gc2NvcGUuZ29vZ2xlIHx8IHt9OwpzY29wZS5nb29nbGUuY29sYWIgPSBzY29wZS5nb29nbGUuY29sYWIgfHwge307CnNjb3BlLmdvb2dsZS5jb2xhYi5fZmlsZXMgPSB7CiAgX3VwbG9hZEZpbGVzLAogIF91cGxvYWRGaWxlc0NvbnRpbnVlLAp9Owp9KShzZWxmKTsK",
              "ok": true,
              "headers": [
                [
                  "content-type",
                  "application/javascript"
                ]
              ],
              "status": 200,
              "status_text": ""
            }
          },
          "base_uri": "https://localhost:8080/",
          "height": 174
        },
        "id": "WNRplHjuJtzm",
        "outputId": "d8e3a500-5d81-4393-d0e9-d8dec7aec560"
      },
      "source": [
        "if not os.path.exists(os.getcwd() + \"/kaggle.json\"):\n",
        "  files.upload()\n",
        "!mkdir ~/.kaggle\n",
        "!cp kaggle.json ~/.kaggle/\n",
        "!chmod 600 ~/.kaggle/kaggle.json\n",
        "\n",
        "!kaggle datasets download tawsifurrahman/covid19-radiography-database\n",
        "\n",
        "# extract riceleafs dataset\n",
        "patoolib.extract_archive(os.getcwd() + \"/covid19-radiography-database.zip\", outdir = os.getcwd() + \"/Dataset\")\n",
        "os.remove(os.getcwd() + \"/covid19-radiography-database.zip\")"
      ],
      "execution_count": 4,
      "outputs": [
        {
          "output_type": "display_data",
          "data": {
            "text/html": [
              "\n",
              "     <input type=\"file\" id=\"files-d654bd46-eba1-4bf2-8ba5-a6fdf2915cd0\" name=\"files[]\" multiple disabled\n",
              "        style=\"border:none\" />\n",
              "     <output id=\"result-d654bd46-eba1-4bf2-8ba5-a6fdf2915cd0\">\n",
              "      Upload widget is only available when the cell has been executed in the\n",
              "      current browser session. Please rerun this cell to enable.\n",
              "      </output>\n",
              "      <script src=\"/nbextensions/google.colab/files.js\"></script> "
            ],
            "text/plain": [
              "<IPython.core.display.HTML object>"
            ]
          },
          "metadata": {
            "tags": []
          }
        },
        {
          "output_type": "stream",
          "text": [
            "Saving kaggle.json to kaggle.json\n",
            "Downloading covid19-radiography-database.zip to /content\n",
            "100% 745M/745M [00:07<00:00, 77.2MB/s]\n",
            "\n",
            "patool: Extracting /content/covid19-radiography-database.zip ...\n",
            "patool: running /usr/bin/7z x -o/content/Dataset -- /content/covid19-radiography-database.zip\n",
            "patool: ... /content/covid19-radiography-database.zip extracted to `/content/Dataset'.\n"
          ],
          "name": "stdout"
        }
      ]
    },
    {
      "cell_type": "code",
      "metadata": {
        "id": "9Z0kx9qnIlcD"
      },
      "source": [
        "output_class = 2 # 2/3 class\n",
        "if output_class > 3 or output_class < 2:\n",
        "  print(\"Undefined\")\n",
        "\n",
        "if os.path.exists(os.getcwd() + \"/Dataset/Preprocessing\"):\n",
        "  shutil.rmtree(os.getcwd() + \"/Dataset/Preprocessing\")\n",
        "os.mkdir(os.getcwd() + \"/Dataset/Preprocessing\")\n",
        "\n",
        "shutil.copytree(os.getcwd() + \"/Dataset/COVID-19_Radiography_Dataset/COVID\", os.getcwd() + \"/Dataset/Preprocessing/COVID\")\n",
        "shutil.copytree(os.getcwd() + \"/Dataset/COVID-19_Radiography_Dataset/Normal\", os.getcwd() + \"/Dataset/Preprocessing/Normal\")\n",
        "if output_class == 3:\n",
        "    shutil.copytree(os.getcwd() + \"/Dataset/COVID-19_Radiography_Dataset/Viral Pneumonia\", os.getcwd() + \"/Dataset/Preprocessing/Viral_Pneumonia\")\n"
      ],
      "execution_count": 5,
      "outputs": []
    },
    {
      "cell_type": "markdown",
      "metadata": {
        "id": "B6KkVMu9IlcF"
      },
      "source": [
        "# Data Preprocessing"
      ]
    },
    {
      "cell_type": "code",
      "metadata": {
        "execution": {
          "iopub.execute_input": "2021-06-20T02:30:17.700462Z",
          "iopub.status.busy": "2021-06-20T02:30:17.700183Z",
          "iopub.status.idle": "2021-06-20T02:30:17.703859Z",
          "shell.execute_reply": "2021-06-20T02:30:17.703235Z",
          "shell.execute_reply.started": "2021-06-20T02:30:17.700425Z"
        },
        "id": "96AsZr9fIlcF"
      },
      "source": [
        "data_dir = os.getcwd() + \"/Dataset/Preprocessing\""
      ],
      "execution_count": 6,
      "outputs": []
    },
    {
      "cell_type": "code",
      "metadata": {
        "execution": {
          "iopub.execute_input": "2021-06-20T02:30:17.705580Z",
          "iopub.status.busy": "2021-06-20T02:30:17.705132Z",
          "iopub.status.idle": "2021-06-20T02:30:17.928867Z",
          "shell.execute_reply": "2021-06-20T02:30:17.927783Z",
          "shell.execute_reply.started": "2021-06-20T02:30:17.705551Z"
        },
        "colab": {
          "base_uri": "https://localhost:8080/"
        },
        "id": "3eDvoj8sIlcG",
        "outputId": "09f51723-1ca1-408b-ad94-cb9434a4d9da"
      },
      "source": [
        "# Directing Images to train folder\n",
        "img_height, img_width = 128,128\n",
        "batch_size = 16\n",
        "train_datagen = ImageDataGenerator(validation_split = 0.3) # set validation split\n",
        "\n",
        "if output_class == 2:\n",
        "  train_generator = train_datagen.flow_from_directory(\n",
        "      data_dir,\n",
        "      target_size = (img_height, img_width),\n",
        "      batch_size = batch_size,\n",
        "      class_mode = \"binary\",\n",
        "      subset = \"training\") # set as training data\n",
        "  # Splitting images for validation set\n",
        "  validation_generator = train_datagen.flow_from_directory(\n",
        "      data_dir, # same directory as training data\n",
        "      target_size = (img_height, img_width),\n",
        "      batch_size = batch_size,\n",
        "      class_mode = \"binary\",\n",
        "      subset = \"validation\") # set as validation data\n",
        "\n",
        "elif output_class == 3:\n",
        "  train_generator = train_datagen.flow_from_directory(\n",
        "      data_dir,\n",
        "      target_size = (img_height, img_width),\n",
        "      batch_size = batch_size,\n",
        "      class_mode = \"categorical\",\n",
        "      subset = \"training\") # set as training data\n",
        "  # Splitting images for validation set\n",
        "  validation_generator = train_datagen.flow_from_directory(\n",
        "      data_dir, # same directory as training data\n",
        "      target_size = (img_height, img_width),\n",
        "      batch_size = batch_size,\n",
        "      class_mode = \"categorical\",\n",
        "      subset = \"validation\") # set as validation data\n",
        "      \n",
        "else:\n",
        "  print(\"Undefined\")"
      ],
      "execution_count": 7,
      "outputs": [
        {
          "output_type": "stream",
          "text": [
            "Found 9667 images belonging to 2 classes.\n",
            "Found 4141 images belonging to 2 classes.\n"
          ],
          "name": "stdout"
        }
      ]
    },
    {
      "cell_type": "markdown",
      "metadata": {
        "id": "5mIlj7NiIlcH"
      },
      "source": [
        "# Model Building"
      ]
    },
    {
      "cell_type": "code",
      "metadata": {
        "execution": {
          "iopub.execute_input": "2021-06-20T02:30:17.930388Z",
          "iopub.status.busy": "2021-06-20T02:30:17.930102Z",
          "iopub.status.idle": "2021-06-20T02:30:18.061841Z",
          "shell.execute_reply": "2021-06-20T02:30:18.061126Z",
          "shell.execute_reply.started": "2021-06-20T02:30:17.930340Z"
        },
        "colab": {
          "base_uri": "https://localhost:8080/"
        },
        "id": "VXl8ptlwIlcH",
        "outputId": "58a2b945-5674-4dfb-8ef0-6d78c893d1fe"
      },
      "source": [
        "# Used Sequential\n",
        "if output_class == 2:\n",
        "  model = tf.keras.Sequential([\n",
        "      tf.keras.layers.Conv2D(32, (2, 2), activation = \"relu\", input_shape = (img_height, img_width, 3)),\n",
        "      tf.keras.layers.MaxPooling2D((2, 2), strides = None, padding = \"valid\"),\n",
        "      tf.keras.layers.Conv2D(64, (2, 2), activation = \"relu\"),\n",
        "      tf.keras.layers.MaxPooling2D((2, 2), strides = None, padding = \"valid\"),\n",
        "      tf.keras.layers.Conv2D(128, (2, 2), activation = \"relu\"),\n",
        "      tf.keras.layers.MaxPooling2D((2, 2), strides = None, padding = \"valid\"),\n",
        "      tf.keras.layers.Flatten(),\n",
        "      tf.keras.layers.Dense(512, activation = \"relu\"),\n",
        "      tf.keras.layers.Dropout(0.1),\n",
        "      tf.keras.layers.Dense(512, activation = \"relu\"),\n",
        "      tf.keras.layers.Dropout(0.1),\n",
        "      tf.keras.layers.Dense(1, activation = \"sigmoid\")],\n",
        "      name = \"CNN_Binary_Classification\")\n",
        "  \n",
        "elif output_class == 3:\n",
        "  model = tf.keras.Sequential([\n",
        "      tf.keras.layers.Conv2D(32, (2, 2), activation = \"relu\", input_shape = (img_height, img_width, 3)),\n",
        "      tf.keras.layers.MaxPooling2D((2, 2), strides = None, padding = \"valid\"),\n",
        "      tf.keras.layers.Conv2D(64, (2, 2), activation = \"relu\"),\n",
        "      tf.keras.layers.MaxPooling2D((2, 2), strides = None, padding = \"valid\"),\n",
        "      tf.keras.layers.Conv2D(128, (2, 2), activation = \"relu\"),\n",
        "      tf.keras.layers.MaxPooling2D((2, 2), strides = None, padding = \"valid\"),\n",
        "      tf.keras.layers.Flatten(),\n",
        "      tf.keras.layers.Dense(512, activation = \"relu\"),\n",
        "      tf.keras.layers.Dropout(0.1),\n",
        "      tf.keras.layers.Dense(512, activation = \"relu\"),\n",
        "      tf.keras.layers.Dropout(0.1),\n",
        "      tf.keras.layers.Dense(3, activation = \"softmax\")], \n",
        "      name = \"CNN_Categorical_Classification\")\n",
        "  \n",
        "else:\n",
        "  print(\"Undefined\")\n",
        "\n",
        "model.summary()"
      ],
      "execution_count": 8,
      "outputs": [
        {
          "output_type": "stream",
          "text": [
            "Model: \"CNN_Binary_Classification\"\n",
            "_________________________________________________________________\n",
            "Layer (type)                 Output Shape              Param #   \n",
            "=================================================================\n",
            "conv2d (Conv2D)              (None, 127, 127, 32)      416       \n",
            "_________________________________________________________________\n",
            "max_pooling2d (MaxPooling2D) (None, 63, 63, 32)        0         \n",
            "_________________________________________________________________\n",
            "conv2d_1 (Conv2D)            (None, 62, 62, 64)        8256      \n",
            "_________________________________________________________________\n",
            "max_pooling2d_1 (MaxPooling2 (None, 31, 31, 64)        0         \n",
            "_________________________________________________________________\n",
            "conv2d_2 (Conv2D)            (None, 30, 30, 128)       32896     \n",
            "_________________________________________________________________\n",
            "max_pooling2d_2 (MaxPooling2 (None, 15, 15, 128)       0         \n",
            "_________________________________________________________________\n",
            "flatten (Flatten)            (None, 28800)             0         \n",
            "_________________________________________________________________\n",
            "dense (Dense)                (None, 512)               14746112  \n",
            "_________________________________________________________________\n",
            "dropout (Dropout)            (None, 512)               0         \n",
            "_________________________________________________________________\n",
            "dense_1 (Dense)              (None, 512)               262656    \n",
            "_________________________________________________________________\n",
            "dropout_1 (Dropout)          (None, 512)               0         \n",
            "_________________________________________________________________\n",
            "dense_2 (Dense)              (None, 1)                 513       \n",
            "=================================================================\n",
            "Total params: 15,050,849\n",
            "Trainable params: 15,050,849\n",
            "Non-trainable params: 0\n",
            "_________________________________________________________________\n"
          ],
          "name": "stdout"
        }
      ]
    },
    {
      "cell_type": "code",
      "metadata": {
        "execution": {
          "iopub.execute_input": "2021-06-20T02:30:18.063303Z",
          "iopub.status.busy": "2021-06-20T02:30:18.062903Z",
          "iopub.status.idle": "2021-06-20T02:30:18.079344Z",
          "shell.execute_reply": "2021-06-20T02:30:18.078525Z",
          "shell.execute_reply.started": "2021-06-20T02:30:18.063275Z"
        },
        "id": "ZSqMOYheIlcI"
      },
      "source": [
        "# Defining optimizer\n",
        "if output_class == 2:\n",
        "  model.compile(optimizer = Adam(learning_rate = 0.0001),\n",
        "                loss = \"binary_crossentropy\",\n",
        "                metrics = [\"accuracy\"])\n",
        "  \n",
        "elif output_class == 3:\n",
        "  model.compile(optimizer = Adam(learning_rate = 0.0001),\n",
        "                loss = \"categorical_crossentropy\",\n",
        "                metrics = [\"accuracy\"])\n",
        "  \n",
        "else:\n",
        "  print(\"Undefined\")"
      ],
      "execution_count": 9,
      "outputs": []
    },
    {
      "cell_type": "code",
      "metadata": {
        "execution": {
          "iopub.execute_input": "2021-06-20T02:30:18.081154Z",
          "iopub.status.busy": "2021-06-20T02:30:18.080522Z",
          "iopub.status.idle": "2021-06-20T02:31:45.312529Z",
          "shell.execute_reply": "2021-06-20T02:31:45.311460Z",
          "shell.execute_reply.started": "2021-06-20T02:30:18.081115Z"
        },
        "colab": {
          "base_uri": "https://localhost:8080/"
        },
        "id": "atnugtuJIlcI",
        "outputId": "b5df3632-fc6e-4c30-ec82-c5d6ca17b3c7"
      },
      "source": [
        "# Training the model\n",
        "trainer = model.fit(\n",
        "    train_generator,\n",
        "    validation_data = validation_generator,\n",
        "    epochs = 30,\n",
        "    verbose = 2)"
      ],
      "execution_count": null,
      "outputs": [
        {
          "output_type": "stream",
          "text": [
            "Epoch 1/30\n",
            "605/605 - 291s - loss: 0.9831 - accuracy: 0.7984 - val_loss: 0.2749 - val_accuracy: 0.8800\n",
            "Epoch 2/30\n",
            "605/605 - 290s - loss: 0.2278 - accuracy: 0.9072 - val_loss: 0.2716 - val_accuracy: 0.8911\n",
            "Epoch 3/30\n",
            "605/605 - 290s - loss: 0.1586 - accuracy: 0.9376 - val_loss: 0.1820 - val_accuracy: 0.9338\n",
            "Epoch 4/30\n",
            "605/605 - 289s - loss: 0.1228 - accuracy: 0.9529 - val_loss: 0.1819 - val_accuracy: 0.9377\n",
            "Epoch 5/30\n",
            "605/605 - 290s - loss: 0.0854 - accuracy: 0.9683 - val_loss: 0.3025 - val_accuracy: 0.9090\n",
            "Epoch 6/30\n",
            "605/605 - 291s - loss: 0.0625 - accuracy: 0.9761 - val_loss: 0.1935 - val_accuracy: 0.9430\n",
            "Epoch 7/30\n",
            "605/605 - 291s - loss: 0.0494 - accuracy: 0.9830 - val_loss: 0.1901 - val_accuracy: 0.9476\n",
            "Epoch 8/30\n",
            "605/605 - 290s - loss: 0.0444 - accuracy: 0.9855 - val_loss: 0.1764 - val_accuracy: 0.9522\n",
            "Epoch 9/30\n",
            "605/605 - 292s - loss: 0.0317 - accuracy: 0.9883 - val_loss: 0.2203 - val_accuracy: 0.9411\n",
            "Epoch 10/30\n",
            "605/605 - 291s - loss: 0.0284 - accuracy: 0.9902 - val_loss: 0.2457 - val_accuracy: 0.9418\n",
            "Epoch 11/30\n",
            "605/605 - 291s - loss: 0.0277 - accuracy: 0.9915 - val_loss: 0.2478 - val_accuracy: 0.9408\n",
            "Epoch 12/30\n"
          ],
          "name": "stdout"
        }
      ]
    },
    {
      "cell_type": "code",
      "metadata": {
        "execution": {
          "iopub.execute_input": "2021-06-20T02:31:45.314547Z",
          "iopub.status.busy": "2021-06-20T02:31:45.314155Z",
          "iopub.status.idle": "2021-06-20T02:31:45.487874Z",
          "shell.execute_reply": "2021-06-20T02:31:45.486820Z",
          "shell.execute_reply.started": "2021-06-20T02:31:45.314511Z"
        },
        "id": "0KPWaTbDIlcJ"
      },
      "source": [
        "# Plotting train_loss vs val_loss\n",
        "plt.figure(figsize = (10, 5))\n",
        "plt.plot(trainer.history[\"loss\"], label = \"loss\")\n",
        "plt.plot(trainer.history[\"val_loss\"], label = \"val_loss\")\n",
        "plt.legend()"
      ],
      "execution_count": null,
      "outputs": []
    },
    {
      "cell_type": "code",
      "metadata": {
        "execution": {
          "iopub.execute_input": "2021-06-20T02:31:45.489527Z",
          "iopub.status.busy": "2021-06-20T02:31:45.489214Z",
          "iopub.status.idle": "2021-06-20T02:31:45.647271Z",
          "shell.execute_reply": "2021-06-20T02:31:45.646296Z",
          "shell.execute_reply.started": "2021-06-20T02:31:45.489495Z"
        },
        "id": "FqeCmBp5IlcJ"
      },
      "source": [
        "# Plotting train_accuracy vs Val_accuracy\n",
        "plt.figure(figsize = (10, 5))\n",
        "plt.plot(trainer.history[\"accuracy\"], label = \"accuracy\")\n",
        "plt.plot(trainer.history[\"val_accuracy\"], label = \"val_accuracy\")\n",
        "plt.legend(loc = 'upper left')"
      ],
      "execution_count": null,
      "outputs": []
    }
  ]
}